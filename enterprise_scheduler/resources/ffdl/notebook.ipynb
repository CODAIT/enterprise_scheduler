{
	"cells": [{
		"cell_type": "code",
		"execution_count": null,
		"metadata": {
			"collapsed": true
		},
		"outputs": [],
		"source": [
			"print('Hello World')"
		]
	}],
	"metadata": {
		"kernelspec": {
			"display_name": "Python 2",
			"language": "python",
			"name": "python2"
		},
		"language_info": {
			"name": "python",
			"version": "2.7.10"
		}
	},
	"nbformat": 4,
	"nbformat_minor": 0
}
